{
  "nbformat": 4,
  "nbformat_minor": 0,
  "metadata": {
    "colab": {
      "name": "Lowestgrade_nested.ipynb",
      "provenance": []
    },
    "kernelspec": {
      "name": "python3",
      "display_name": "Python 3"
    },
    "language_info": {
      "name": "python"
    }
  },
  "cells": [
    {
      "cell_type": "code",
      "metadata": {
        "id": "3_t6QrDHWGpa"
      },
      "source": [
        "n=int(input())\n",
        "result=[]\n",
        "grade=[]\n",
        "for i in range(n):\n",
        " name=input()\n",
        " mark=float(input())\n",
        "result.append([name,mark])\n",
        "grade.append(mark) #calculation second lowest\n",
        "print(result)\n",
        "print(grade)\n",
        "grade=sorted(set(grade)) #removing duplicate\n",
        "print(grade)\n",
        "m=grade[1]\n",
        "print(m)\n",
        "name=[]\n",
        "for val in result:\n",
        "  if m==val[1]:\n",
        "    name.append(val[0])\n",
        "    print(name) #unsorted\n",
        "    name.sort()\n",
        "    print(name) #sorted14\n",
        "    for nm in name:\n",
        "      print(nm)\n",
        "\n"
      ],
      "execution_count": null,
      "outputs": []
    },
    {
      "cell_type": "code",
      "metadata": {
        "id": "0MDY6rDfXrpD"
      },
      "source": [
        ""
      ],
      "execution_count": null,
      "outputs": []
    }
  ]
}